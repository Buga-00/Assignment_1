{
 "cells": [
  {
   "cell_type": "code",
   "execution_count": null,
   "id": "a77f5923",
   "metadata": {},
   "outputs": [],
   "source": [
    "class BankAccount:\n",
    "\n",
    "    def __init__(self, account_holder, initial_balance=0):\n",
    "        self.account_holder = account_holder\n",
    "        self.balance = initial_balance\n",
    "    \n",
    "    def deposit(self, amount):\n",
    "        if amount > 0:\n",
    "            self.balance += amount\n",
    "            print (f\"Deposited: ${amount:.2f}\")\n",
    "        else:\n",
    "            print (\"Deposit amount must be positive.\")\n",
    "    \n",
    "    def withdraw(self, amount):\n",
    "        if amount > 0:\n",
    "            if amount <= self.balance:\n",
    "                self.balance -= amount\n",
    "                print (f\"Withdrew: ${amount:.2f}\")\n",
    "            else:\n",
    "                print (\"Insufficient funds.\")\n",
    "        else:\n",
    "            print (\"Withdrawal amount must be positive.\")\n",
    "    \n",
    "    def account_info(self):\n",
    "        return f\"Account Holder: {self.account_holder}, Balance: ${self.balance:.2f}\"\n",
    "    "
   ]
  },
  {
   "cell_type": "code",
   "execution_count": null,
   "id": "4cde4094",
   "metadata": {},
   "outputs": [],
   "source": [
    "class SavingsAccount(BankAccount):\n",
    "\n",
    "    def __init__(self, account_holder, initial_balance=0, interest_rate=0.02):\n",
    "        super().__init__(account_holder, initial_balance)\n",
    "        self.interest_rate = interest_rate\n",
    "\n",
    "    def apply_interest(self):\n",
    "        interest = self.balance * self.interest_rate\n",
    "        self.balance += interest\n",
    "        print (f\"Applied interest: ${interest:.2f}\")"
   ]
  }
 ],
 "metadata": {
  "kernelspec": {
   "display_name": "Python 3",
   "language": "python",
   "name": "python3"
  },
  "language_info": {
   "codemirror_mode": {
    "name": "ipython",
    "version": 3
   },
   "file_extension": ".py",
   "mimetype": "text/x-python",
   "name": "python",
   "nbconvert_exporter": "python",
   "pygments_lexer": "ipython3",
   "version": "3.13.7"
  }
 },
 "nbformat": 4,
 "nbformat_minor": 5
}
