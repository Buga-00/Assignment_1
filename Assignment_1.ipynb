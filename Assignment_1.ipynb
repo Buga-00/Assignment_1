{
 "cells": [
  {
   "cell_type": "code",
   "execution_count": 67,
   "id": "a77f5923",
   "metadata": {},
   "outputs": [],
   "source": [
    "class BankAccount:\n",
    "\n",
    "    \"\"\"\n",
    "    A bank account class that allows deposits, withdrawals and shows account information.\n",
    "    \"\"\"\n",
    "\n",
    "    def __init__(self, account_holder, initial_balance=0):\n",
    "        \"\"\" \n",
    "        Set up a new bank account.\n",
    "        \"\"\"\n",
    "\n",
    "        self.account_holder = account_holder\n",
    "        self.balance = initial_balance\n",
    "    \n",
    "    def deposit(self, amount):\n",
    "        \"\"\" \n",
    "        Deposit money into the account.\n",
    "        \"\"\"\n",
    "\n",
    "        if amount > 0:\n",
    "            self.balance += amount\n",
    "            print(f\"Deposited: ${amount:.2f}\")\n",
    "        else:\n",
    "            print(\"The amount deposited must be positive.\")\n",
    "        \n",
    "    \n",
    "    def withdraw(self, amount):\n",
    "        \"\"\" \n",
    "        Withdraw money from the account if sufficient funds are available.\n",
    "        \"\"\"\n",
    "\n",
    "        if amount <= 0:\n",
    "            print(\"The amount withdrawn must be positive.\")\n",
    "        elif amount > self.balance:\n",
    "            print(\"Insufficient funds.\")\n",
    "        else: \n",
    "            self.balance -= amount\n",
    "            print(f\"Withdrew: ${amount:.2f}\")\n",
    "    \n",
    "    def account_info(self):\n",
    "        \"\"\" \n",
    "        Return the account holder's name and current balance.\n",
    "        \"\"\"\n",
    "        \n",
    "        return f\"Account Holder: {self.account_holder}, Balance: ${self.balance:.2f}\"\n",
    "    "
   ]
  },
  {
   "cell_type": "code",
   "execution_count": 68,
   "id": "4c9b5064",
   "metadata": {},
   "outputs": [
    {
     "name": "stdout",
     "output_type": "stream",
     "text": [
      "Testing BankAccount \n",
      "Deposited: $150.00\n",
      "The amount deposited must be positive.\n",
      "Withdrew: $50.00\n",
      "Insufficient funds.\n",
      "The amount withdrawn must be positive.\n",
      "Account Holder: Mohammed, Balance: $300.00\n"
     ]
    }
   ],
   "source": [
    "print(\"Testing BankAccount \")\n",
    "\n",
    "#Create a bank account with $200\n",
    "account = BankAccount(\"Mohammed\", 200)\n",
    "\n",
    "#Deposit $150\n",
    "account.deposit(150) \n",
    "\n",
    "#Try to deposit a negativ amount and this should fail \n",
    "account.deposit(-50)\n",
    "\n",
    "#Withdraw $50\n",
    "account.withdraw(50)\n",
    "\n",
    "#Try to withdraw more than the balance and this should fail.\n",
    "account.withdraw(3000)\n",
    "\n",
    "#Try to withdraw a negative amount and this should fail.\n",
    "account.withdraw(-30)\n",
    "\n",
    "#Shows final account info\n",
    "print(account.account_info())"
   ]
  },
  {
   "cell_type": "code",
   "execution_count": 69,
   "id": "4cde4094",
   "metadata": {},
   "outputs": [],
   "source": [
    "class SavingsAccount(BankAccount):\n",
    "    \"\"\" \n",
    "    Inherits from BankAccount.\n",
    "    A savings account that earns interest over time.\n",
    "    \"\"\"\n",
    "    def __init__(self, account_holder, initial_balance=0, interest_rate=0.02):\n",
    "        \"\"\" \n",
    "        Set up a savings account.\n",
    "        \"\"\"\n",
    "        super().__init__(account_holder, initial_balance)\n",
    "        self.interest_rate = interest_rate\n",
    "\n",
    "    def apply_interest(self):\n",
    "        \"\"\" \n",
    "        Add interest to the balance. \n",
    "        \"\"\"\n",
    "\n",
    "        interest = self.balance * self.interest_rate\n",
    "        self.balance += interest\n",
    "        print (f\"Applied interest: ${interest:.2f}\")"
   ]
  },
  {
   "cell_type": "code",
   "execution_count": 70,
   "id": "56f207b8",
   "metadata": {},
   "outputs": [
    {
     "name": "stdout",
     "output_type": "stream",
     "text": [
      "Testing SavingsAccount\n",
      "Account Holder: Abdi, Balance: $2000.00\n",
      "Applied interest: $200.00\n",
      "Applied interest: $220.00\n",
      "Account Holder: Abdi, Balance: $2420.00\n"
     ]
    }
   ],
   "source": [
    "print(\"Testing SavingsAccount\")\n",
    "\n",
    "#Creating a savingsaccount with $2000 and 10% interest\n",
    "savingsAccount = SavingsAccount(\"Abdi\", 2000, 0.10)\n",
    "\n",
    "#Shows account info\n",
    "print(savingsAccount.account_info())\n",
    "\n",
    "#Applies %10 interest\n",
    "savingsAccount.apply_interest()\n",
    "\n",
    "#Applies %10 interest\n",
    "savingsAccount.apply_interest()\n",
    "\n",
    "#Shows final account info after interest\n",
    "print(savingsAccount.account_info())"
   ]
  },
  {
   "cell_type": "code",
   "execution_count": 71,
   "id": "8f1e1cf0",
   "metadata": {},
   "outputs": [],
   "source": [
    "class CheckingAccount(BankAccount):\n",
    "    \"\"\" \n",
    "    Inherits from BankAccount.\n",
    "    A checking account that charges a fee every time money is withdrawn.\n",
    "    \"\"\"\n",
    "\n",
    "    def __init__(self, account_holder, initial_balance=0, transaction_fee= 1.0):\n",
    "        \"\"\" \n",
    "        Set up a checking account\n",
    "        \"\"\"\n",
    "        super().__init__(account_holder, initial_balance)\n",
    "        self.transaction_fee = transaction_fee\n",
    "    \n",
    "    def withdraw(self, amount):\n",
    "        \"\"\" \n",
    "        Withdraw money out of the account and also subtract the fee.\n",
    "        \"\"\"\n",
    "        \n",
    "        total_amount = amount + self.transaction_fee\n",
    "    \n",
    "        super().withdraw(total_amount)"
   ]
  },
  {
   "cell_type": "code",
   "execution_count": 72,
   "id": "04ea5eff",
   "metadata": {},
   "outputs": [
    {
     "name": "stdout",
     "output_type": "stream",
     "text": [
      "Testing CheckingAccount\n",
      "Account Holder: Drake, Balance: $300.00\n",
      "Withdrew: $52.00\n",
      "The amount withdrawn must be positive.\n",
      "Insufficient funds.\n",
      "Account Holder: Drake, Balance: $248.00\n",
      "Account Holder: Makachev, Balance: $400.00\n",
      "Withdrew: $301.00\n",
      "Account Holder: Makachev, Balance: $99.00\n"
     ]
    }
   ],
   "source": [
    "print(\"Testing CheckingAccount\")\n",
    "\n",
    "#Creating Checking account with $300 and $2 fee per withdrawal.\n",
    "checkingAccount = CheckingAccount(\"Drake\", 300, 2.0)\n",
    "\n",
    "#Shows account info\n",
    "print(checkingAccount.account_info())\n",
    "\n",
    "#Withdraw $50 and $2 fee\n",
    "checkingAccount.withdraw(50)\n",
    "\n",
    "#Try to withdraw a negative amount and this will fail.\n",
    "checkingAccount.withdraw(-100)\n",
    "\n",
    "#Try to withdraw a amount more than the balance and this will fail\n",
    "checkingAccount.withdraw(350)\n",
    "\n",
    "#Shows final account info\n",
    "print(checkingAccount.account_info())\n",
    "\n",
    "#Creating another checking account with default $1 fee\n",
    "checkingAccount2 = CheckingAccount(\"Makachev\", 400)\n",
    "\n",
    "#Shows account info\n",
    "print(checkingAccount2.account_info())\n",
    "\n",
    "#Try to withdraw $300 plus $1 fee\n",
    "checkingAccount2.withdraw(300)\n",
    "\n",
    "#Shows final account\n",
    "print(checkingAccount2.account_info())"
   ]
  }
 ],
 "metadata": {
  "kernelspec": {
   "display_name": "Python 3",
   "language": "python",
   "name": "python3"
  },
  "language_info": {
   "codemirror_mode": {
    "name": "ipython",
    "version": 3
   },
   "file_extension": ".py",
   "mimetype": "text/x-python",
   "name": "python",
   "nbconvert_exporter": "python",
   "pygments_lexer": "ipython3",
   "version": "3.13.7"
  }
 },
 "nbformat": 4,
 "nbformat_minor": 5
}
